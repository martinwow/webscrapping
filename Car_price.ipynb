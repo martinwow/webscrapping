{
 "cells": [
  {
   "cell_type": "code",
   "execution_count": 1,
   "metadata": {},
   "outputs": [
    {
     "name": "stdout",
     "output_type": "stream",
     "text": [
      "Runtime: 1048.01 seconds\n"
     ]
    }
   ],
   "source": [
    "from bs4 import BeautifulSoup as soup\n",
    "import requests\n",
    "import pandas as pd\n",
    "import time\n",
    "\n",
    "start_time = time.time()\n",
    "end_time = 0\n",
    "\n",
    "domain = \"https://www.bolha.com\"\n",
    "params = ['Znamka avtomobila:', 'Model avtomobila:', 'Tip avtomobila:', 'Leto izdelave:', 'Prevoženi kilometri:']\n",
    "results_df = pd.DataFrame(data=None, index=None, columns=params.append('Cena:'))\n",
    "results_df.index +=1\n",
    "\n",
    "page_number = '1'\n",
    "ad_number = 1\n",
    "\n",
    "# Individual page processing\n",
    "while int(page_number) <= 50:\n",
    "    request_page = requests.get(domain + '/rabljeni-avtomobili?page=' + page_number)\n",
    "    page_soup = soup(request_page.content,'html.parser')\n",
    "#     print(page_number)\n",
    "\n",
    "    page_cars_html = page_soup.find_all('h3',{'class':'entity-title'})\n",
    "#     print(len(page_cars_html))\n",
    "    \n",
    "    # Individual car processing\n",
    "    for car_html in page_cars_html:\n",
    "        single_car_url = car_html.a.get('href')\n",
    "        \n",
    "        if 'avto-oglasi' in single_car_url:\n",
    "#             print(single_car_url)\n",
    "            single_car_req = requests.get(domain + single_car_url)\n",
    "            car_info = soup(single_car_req.content,'html.parser')\n",
    "\n",
    "            car_price_html = car_info.find('li',{'class':'price-item--base'}).find('strong',{'class':'price'})\n",
    "            car_price = car_price_html.get_text().replace('\\n','').replace(' ','').replace('\\xa0',' ')\n",
    "            #car_table = car_info.find('tbody').find_all('tr')\n",
    "            #car_type = car_table[2].find('td').text + ' ' + car_table[3].find('td').text + ', '+ car_table[4].find('td').text\n",
    "            #car_year = car_table[5].find('td').text\n",
    "            #car_mileage = car_table[10].find('td').text\n",
    "\n",
    "            # Find table of properties I'm interested in.\n",
    "            my_list = car_info.find('tbody')\n",
    "            result_dict = {'Cena:':car_price, 'Stran:':page_number, 'Oglas:':str(ad_number)}\n",
    "#             print(result_dict.values())\n",
    "\n",
    "            # Loops across all parameters, finds the index, takes result, stores in a dictionary\n",
    "            for param in params:\n",
    "                for i,each_param in enumerate(my_list.find_all('th')):\n",
    "                    if param in each_param:\n",
    "                        value = my_list.find_all('tr')[i].find('td').text\n",
    "                        if value is not None:\n",
    "                            result_dict.update({param : value})\n",
    "                            \n",
    "            #Once an individual ad is processed, increment of ad_number.\n",
    "            ad_number +=1\n",
    "\n",
    "            # Dictionary of results is stored in results dataframe only if it found properties other than price\n",
    "            # Only include prices greater than 99 €\n",
    "            # Exclude ads with no defined price\n",
    "            if result_dict['Znamka avtomobila:'] is not None and \\\n",
    "                result_dict['Model avtomobila:'] is not None and \\\n",
    "                result_dict['Tip avtomobila:'] is not None and \\\n",
    "                result_dict['Leto izdelave:'] is not None and \\\n",
    "                result_dict['Prevoženi kilometri:'] is not None and \\\n",
    "                len(result_dict['Cena:']) > 4 and \\\n",
    "                \"dogovor\" not in result_dict['Cena:'] :\n",
    "                results_df = results_df.append(result_dict, ignore_index=True)\n",
    "#                 print(\"Stran: \" + str(page_number))\n",
    "\n",
    "#             print(\"Next car!\")\n",
    "        else:\n",
    "            pass\n",
    "#             print(\"Not a car!\")\n",
    "\n",
    "            \n",
    "    # Find a link to next page; if not there, break the while loop\n",
    "    try:\n",
    "        page_number = page_soup.find('li',{'class':'Pagination-item--next'}).find('button').get('data-page')\n",
    "#         print(\"New: \"+page_number)\n",
    "    except AttributeError:\n",
    "        print(\"Done!\")\n",
    "#         end_time = time.time()\n",
    "        break\n",
    "    else:\n",
    "        continue\n",
    "    break\n",
    "                \n",
    "                \n",
    "print(\"Runtime: %s seconds\" % (round(time.time() - start_time, 2)))"
   ]
  },
  {
   "cell_type": "markdown",
   "metadata": {},
   "source": [
    "#### Edit data"
   ]
  },
  {
   "cell_type": "code",
   "execution_count": null,
   "metadata": {},
   "outputs": [],
   "source": [
    "# filter_1 = ~results_df['Leto izdelave:'].isnull()\n",
    "# filter_2 = \n",
    "#msno.matrix(results_df[~results_df['Leto izdelave:'].isnull()])\n",
    "# plt.plot(results_df['Leto izdelave:'],'.')\n",
    "# plt.plot('Cena:', 'Leto izdelave:')\n",
    "\n",
    "# results_df.info()\n",
    "# results_df = results_copy.copy(deep=True)\n",
    "\n",
    "#Backup copy of results\n",
    "results_copy = results_df.copy(deep=True)\n",
    "\n",
    "# Trim values\n",
    "results_df['Cena:'][~results_df['Cena:'].str.contains('€')] #Discard € sign\n",
    "temp_result = results_df['Cena:'].str.slice(stop = -2) #Remove extra characters\n",
    "temp_result = temp_result.str.replace('.','') #Remove 1k markers\n",
    "temp_result = temp_result.str.replace(',','.') #Change decimal point\n",
    "results_df['Cena:'] = temp_result\n",
    "temp_result = results_df['Prevoženi kilometri:'].str.slice(stop = -3) #Remove extra characters\n",
    "results_df['Prevoženi kilometri:'] = temp_result\n",
    "\n",
    "# Edit order of columns\n",
    "col_key = results_df.columns.to_list()\n",
    "col_val = [key[:-1] for key in col_key]\n",
    "col_dict = {col_key[i]:col_val[i] for i in range(len(col_key))}\n",
    "results_df = results_df.rename(columns=col_dict)\n",
    "\n",
    "# Rename columns\n",
    "temp = ['Oglas','Stran','Znamka avtomobila','Tip avtomobila','Model avtomobila','Leto izdelave','Prevoženi kilometri','Cena']\n",
    "results_df = results_df[temp]\n",
    "results_df.columns = [temp]\n",
    "\n",
    "# Reformat columns: all numbers from strings to integer/float\n",
    "type_dict = {'Cena':'float64','Prevoženi kilometri':'int64','Leto izdelave':'int64'}\n",
    "results_df = results_df.astype(dtype=type_dict)\n",
    "results_df"
   ]
  },
  {
   "cell_type": "markdown",
   "metadata": {},
   "source": [
    "### Storage of results"
   ]
  },
  {
   "cell_type": "code",
   "execution_count": null,
   "metadata": {},
   "outputs": [],
   "source": [
    "# Define SQLlite database, input results of webscraping. How to update with time? Check every entry? Might take time.\n",
    "from sqlalchemy import create_engine\n",
    "# import sqlite3\n",
    "\n",
    "engine = create_engine('sqlite:///car_storage.db', echo=False)\n",
    "conn = engine.connect()\n",
    "\n",
    "results_df.to_sql('car_ads', conn, if_exists='fail')\n",
    "conn.close()"
   ]
  },
  {
   "cell_type": "markdown",
   "metadata": {},
   "source": [
    "### Retrieve results from db"
   ]
  },
  {
   "cell_type": "code",
   "execution_count": 3,
   "metadata": {},
   "outputs": [],
   "source": [
    "from sqlalchemy import create_engine\n",
    "import pandas as pd\n",
    "\n",
    "engine = create_engine('sqlite:///car_storage.db', echo=False)\n",
    "conn = engine.connect()\n",
    "\n",
    "sql = '''select * from car_ads where 1=1;'''\n",
    "\n",
    "data = pd.read_sql(sql, conn, index_col='index')\n",
    "data.index.name=''"
   ]
  },
  {
   "cell_type": "code",
   "execution_count": null,
   "metadata": {},
   "outputs": [],
   "source": [
    "data"
   ]
  },
  {
   "cell_type": "markdown",
   "metadata": {},
   "source": [
    "## Analiza"
   ]
  },
  {
   "cell_type": "code",
   "execution_count": 7,
   "metadata": {},
   "outputs": [
    {
     "data": {
      "text/plain": [
       "(0.0, 1000000.0)"
      ]
     },
     "execution_count": 7,
     "metadata": {},
     "output_type": "execute_result"
    },
    {
     "data": {
      "image/png": "[encoded data removed]",
      "text/plain": [
       "<Figure size 432x288 with 1 Axes>"
      ]
     },
     "metadata": {
      "needs_background": "light"
     },
     "output_type": "display_data"
    }
   ],
   "source": [
    "import missingno as msno\n",
    "import matplotlib.pyplot as plt\n",
    "import seaborn as sns\n",
    "import numpy as np\n",
    "\n",
    "plt.plot(data['Cena'],data['Prevoženi kilometri'],'.')\n",
    "plt.ylim([0,1e6])"
   ]
  },
  {
   "cell_type": "code",
   "execution_count": 35,
   "metadata": {},
   "outputs": [
    {
     "data": {
      "text/plain": [
       "<seaborn.axisgrid.FacetGrid at 0x214bf9ed3c8>"
      ]
     },
     "execution_count": 35,
     "metadata": {},
     "output_type": "execute_result"
    },
    {
     "data": {
      "image/png": "[encoded data removed]",
      "text/plain": [
       "<Figure size 683.5x576 with 1 Axes>"
      ]
     },
     "metadata": {
      "needs_background": "light"
     },
     "output_type": "display_data"
    }
   ],
   "source": [
    "populars = list(data.groupby('Znamka avtomobila')['Oglas'].count().sort_values(ascending=False)[0:5].index)\n",
    "my_data = data[data['Znamka avtomobila'].isin(populars)]\n",
    "\n",
    "X = my_data['Leto izdelave']\n",
    "Y = my_data['Cena']\n",
    "Z = my_data['Prevoženi kilometri']\n",
    "\n",
    "# plt.plot(X,Y,'.')\n",
    "\n",
    "# x_fit = np.arange(1970,2021,1)\n",
    "# y_fit = np.exp(0.184 *x_fit -361.315)\n",
    "# y_fit = np.exp(0.2083 *x_fit -410.77)\n",
    "\n",
    "\n",
    "\n",
    "# plt.plot(x_fit,y_fit)\n",
    "sns.lmplot(data=my_data, x='Leto izdelave', y='Cena', hue='Znamka avtomobila', height=8, fit_reg=False)\n",
    "# sns.regplot(X, Y, fit_reg=False, order=1, logx=True)\n",
    "# sns.lmplot(data=my_data[my_data['Znamka avtomobila']=='Renault'], x='Leto izdelave', y='Cena', height=8)\n",
    "\n",
    "\n",
    "# plt.plot([1996,2020],[5,10], linewidth=5, color='orange')\n",
    "# plt.plot([1995,],[5,], linewidth=4, color='green')\n",
    "# plt.ylim(4, 10)\n",
    "# plt.xlim(0, 1e6)\n",
    "# plt.rcParams['figure.figsize'] = [5,8]# v inčah!\n",
    "# plt.show()\n",
    "# plt.plot(X,Y,'.')\n",
    "# plt.plot(Y,'.-')"
   ]
  },
  {
   "cell_type": "code",
   "execution_count": 50,
   "metadata": {},
   "outputs": [
    {
     "name": "stderr",
     "output_type": "stream",
     "text": [
      "100%|██████████| 50/50 [01:25<00:00,  1.71s/it]\n"
     ]
    }
   ],
   "source": [
    "from tqdm import tqdm\n",
    "\n",
    "A = np.arange(0.15,0.25,0.001)\n",
    "B = np.arange(-450,-400,1)\n",
    "# B = -410.77\n",
    "\n",
    "def grad_desc(a,b,alpha,epoch):\n",
    "    for i in range(epoch):\n",
    "        temp = np.log(Y) - (a*X + b)\n",
    "        temp_a = sum(temp) /temp.shape[0]\n",
    "        temp_b = sum(temp *X) /temp.shape[0]\n",
    "        \n",
    "        a = a -alpha *temp_a\n",
    "        b = b -alpha *temp_b\n",
    "    return(round(a,3), round(b,3))\n",
    "\n",
    "res_A = list()\n",
    "res_B = list()\n",
    "\n",
    "for b in tqdm(B):\n",
    "    for a in A:\n",
    "        res_a, res_b = grad_desc(a,b,0.001,20)\n",
    "        res_A.append(res_a)\n",
    "        res_B.append(res_b)\n",
    "        \n",
    "#         min(res_A)\n",
    "#         min(res_B)"
   ]
  },
  {
   "cell_type": "code",
   "execution_count": null,
   "metadata": {},
   "outputs": [],
   "source": [
    "# print(grad_desc(0.2, -214, 0.01, 1000))\n",
    "# res_A\n",
    "res_A"
   ]
  },
  {
   "cell_type": "code",
   "execution_count": null,
   "metadata": {},
   "outputs": [],
   "source": [
    "x_fit = np.arange(1970,2021,1)\n",
    "y_fit = np.exp(0.184 *x_fit -361.315)\n",
    "print(y_fit)"
   ]
  },
  {
   "cell_type": "code",
   "execution_count": null,
   "metadata": {},
   "outputs": [],
   "source": [
    "from scipy.optimize import curve_fit\n",
    "\n",
    "def func(x, a, b, c):\n",
    "    return a * np.exp(b * x) + c\n",
    "\n",
    "popt, pcov = curve_fit(func, X, Y)"
   ]
  }
 ],
 "metadata": {
  "kernelspec": {
   "display_name": "Python 3",
   "language": "python",
   "name": "python3"
  },
  "language_info": {
   "codemirror_mode": {
    "name": "ipython",
    "version": 3
   },
   "file_extension": ".py",
   "mimetype": "text/x-python",
   "name": "python",
   "nbconvert_exporter": "python",
   "pygments_lexer": "ipython3",
   "version": "3.7.4"
  }
 },
 "nbformat": 4,
 "nbformat_minor": 4
}
